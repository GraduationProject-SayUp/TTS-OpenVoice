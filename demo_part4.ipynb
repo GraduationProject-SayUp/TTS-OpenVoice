{
 "cells": [
  {
   "cell_type": "markdown",
   "metadata": {},
   "source": [
    "## Multi-Accent and Multi-Lingual Voice Clone Demo with MeloTTS"
   ]
  },
  {
   "cell_type": "code",
   "execution_count": 1,
   "metadata": {},
   "outputs": [
    {
     "name": "stdout",
     "output_type": "stream",
     "text": [
      "Importing the dtw module. When using in academic works please cite:\n",
      "  T. Giorgino. Computing and Visualizing Dynamic Time Warping Alignments in R: The dtw Package.\n",
      "  J. Stat. Soft., doi:10.18637/jss.v031.i07.\n",
      "\n"
     ]
    }
   ],
   "source": [
    "#.\\.venv\\Scripts\\activate\n",
    "\n",
    "import os\n",
    "import torch\n",
    "from openvoice import se_extractor\n",
    "from openvoice.api import ToneColorConverter"
   ]
  },
  {
   "cell_type": "markdown",
   "metadata": {},
   "source": [
    "### Initialization\n",
    "\n",
    "In this example, we will use the checkpoints from OpenVoiceV2. OpenVoiceV2 is trained with more aggressive augmentations and thus demonstrate better robustness in some cases."
   ]
  },
  {
   "cell_type": "code",
   "execution_count": 2,
   "metadata": {},
   "outputs": [
    {
     "name": "stderr",
     "output_type": "stream",
     "text": [
      "c:\\Users\\kimyk\\OneDrive\\문서\\유경\\OpenVoice\\.venv\\lib\\site-packages\\torch\\nn\\utils\\weight_norm.py:143: FutureWarning: `torch.nn.utils.weight_norm` is deprecated in favor of `torch.nn.utils.parametrizations.weight_norm`.\n",
      "  WeightNorm.apply(module, name, dim)\n",
      "c:\\Users\\kimyk\\OneDrive\\문서\\유경\\OpenVoice\\.venv\\lib\\site-packages\\wavmark\\__init__.py:16: FutureWarning: You are using `torch.load` with `weights_only=False` (the current default value), which uses the default pickle module implicitly. It is possible to construct malicious pickle data which will execute arbitrary code during unpickling (See https://github.com/pytorch/pytorch/blob/main/SECURITY.md#untrusted-models for more details). In a future release, the default value for `weights_only` will be flipped to `True`. This limits the functions that could be executed during unpickling. Arbitrary objects will no longer be allowed to be loaded via this mode unless they are explicitly allowlisted by the user via `torch.serialization.add_safe_globals`. We recommend you start setting `weights_only=True` for any use case where you don't have full control of the loaded file. Please open an issue on GitHub for any issues related to this experimental feature.\n",
      "  checkpoint = torch.load(resume_path, map_location=torch.device('cpu'))\n",
      "c:\\Users\\kimyk\\OneDrive\\문서\\유경\\OpenVoice\\openvoice\\api.py:36: FutureWarning: You are using `torch.load` with `weights_only=False` (the current default value), which uses the default pickle module implicitly. It is possible to construct malicious pickle data which will execute arbitrary code during unpickling (See https://github.com/pytorch/pytorch/blob/main/SECURITY.md#untrusted-models for more details). In a future release, the default value for `weights_only` will be flipped to `True`. This limits the functions that could be executed during unpickling. Arbitrary objects will no longer be allowed to be loaded via this mode unless they are explicitly allowlisted by the user via `torch.serialization.add_safe_globals`. We recommend you start setting `weights_only=True` for any use case where you don't have full control of the loaded file. Please open an issue on GitHub for any issues related to this experimental feature.\n",
      "  checkpoint_dict = torch.load(ckpt_path, map_location=torch.device(self.device))\n"
     ]
    },
    {
     "name": "stdout",
     "output_type": "stream",
     "text": [
      "Loaded checkpoint 'checkpoints_v2/converter/checkpoint.pth'\n",
      "missing/unexpected keys: [] []\n"
     ]
    }
   ],
   "source": [
    "ckpt_converter = 'checkpoints_v2/converter'\n",
    "device = \"cuda:0\" if torch.cuda.is_available() else \"cpu\"\n",
    "output_dir = 'outputs_v2'\n",
    "\n",
    "tone_color_converter = ToneColorConverter(f'{ckpt_converter}/config.json', device=device)\n",
    "tone_color_converter.load_ckpt(f'{ckpt_converter}/checkpoint.pth')\n",
    "\n",
    "os.makedirs(output_dir, exist_ok=True)"
   ]
  },
  {
   "cell_type": "markdown",
   "metadata": {},
   "source": [
    "### Obtain Tone Color Embedding\n",
    "We only extract the tone color embedding for the target speaker. The source tone color embeddings can be directly loaded from `checkpoints_v2/ses` folder."
   ]
  },
  {
   "cell_type": "code",
   "execution_count": null,
   "metadata": {},
   "outputs": [
    {
     "name": "stdout",
     "output_type": "stream",
     "text": [
      "녹음 시작: 말을 시작하세요\n",
      "5초 동안 녹음 중...\n",
      "청크 녹음 완료: 현재 녹음 시간 5초\n",
      "5초 동안 녹음 중...\n",
      "청크 녹음 완료: 현재 녹음 시간 8초\n",
      "5초 동안 녹음 중...\n",
      "청크 녹음 완료: 현재 녹음 시간 13초\n",
      "5초 동안 녹음 중...\n",
      "청크 녹음 완료: 현재 녹음 시간 14초\n",
      "5초 동안 녹음 중...\n",
      "청크 녹음 완료: 현재 녹음 시간 19초\n",
      "5초 동안 녹음 중...\n",
      "청크 녹음 완료: 현재 녹음 시간 24초\n",
      "5초 동안 녹음 중...\n",
      "청크 녹음 완료: 현재 녹음 시간 26초\n",
      "5초 동안 녹음 중...\n",
      "청크 녹음 완료: 현재 녹음 시간 31초\n",
      "5초 동안 녹음 중...\n",
      "청크 녹음 완료: 현재 녹음 시간 36초\n",
      "5초 동안 녹음 중...\n",
      "청크 녹음 완료: 현재 녹음 시간 38초\n",
      "5초 동안 녹음 중...\n",
      "청크 녹음 완료: 현재 녹음 시간 43초\n",
      "5초 동안 녹음 중...\n",
      "청크 녹음 완료: 현재 녹음 시간 45초\n",
      "5초 동안 녹음 중...\n",
      "청크 녹음 완료: 현재 녹음 시간 47초\n",
      "5초 동안 녹음 중...\n",
      "청크 녹음 완료: 현재 녹음 시간 49초\n",
      "5초 동안 녹음 중...\n",
      "청크 녹음 완료: 현재 녹음 시간 51초\n",
      "5초 동안 녹음 중...\n",
      "청크 녹음 완료: 현재 녹음 시간 56초\n",
      "5초 동안 녹음 중...\n",
      "청크 녹음 완료: 현재 녹음 시간 60초\n",
      "녹음 완료: 저장 중...\n",
      "녹음된 파일 저장 완료: resources/tmp_microphone.mp3\n"
     ]
    }
   ],
   "source": [
    "import time\n",
    "from speech_recognition import Recognizer, Microphone\n",
    "from pydub import AudioSegment\n",
    "\n",
    "src_path = f'resources/tmp_microphone.mp3'\n",
    "\n",
    "recognizer = Recognizer()\n",
    "\n",
    "duration_seconds = 30  # 녹음 시간 (초)\n",
    "chunk_duration = 5     # 청크별 녹음 시간 (초)\n",
    "audio_segments = []    # 녹음된 데이터 저장 리스트\n",
    "\n",
    "\n",
    "with Microphone() as source:\n",
    "    print(\"녹음 시작: 말을 시작하세요\")\n",
    "    recognizer.adjust_for_ambient_noise(source)  # 주변 소음 보정\n",
    "    start_time = time.time()\n",
    "\n",
    "    while time.time() - start_time < duration_seconds:\n",
    "        print(f\"{chunk_duration}초 동안 녹음 중\")\n",
    "        audio_data = recognizer.listen(source, timeout=chunk_duration, phrase_time_limit=chunk_duration)\n",
    "        audio_segments.append(audio_data.get_wav_data())\n",
    "        print(f\"청크 녹음 완료: 현재 녹음 시간 {int(time.time() - start_time)}초\")\n",
    "\n",
    "\n",
    "# WAV 파일로 저장\n",
    "print(\"녹음 완료: 저장 중\")\n",
    "final_audio = AudioSegment.empty()\n",
    "for segment in audio_segments:\n",
    "    audio_chunk = AudioSegment(segment)\n",
    "    final_audio += audio_chunk\n",
    "\n",
    "# 파일 저장\n",
    "final_audio.export(src_path, format=\"mp3\")\n",
    "print(f\"녹음된 파일 저장 완료: {src_path}\")\n"
   ]
  },
  {
   "cell_type": "code",
   "execution_count": null,
   "metadata": {},
   "outputs": [
    {
     "name": "stdout",
     "output_type": "stream",
     "text": [
      "OpenVoice version: v2\n",
      "[(0.0, 8.21), (9.39, 12.946), (13.262, 29.49225)]\n",
      "after vad: dur = 27.995986394557825\n"
     ]
    }
   ],
   "source": [
    "\n",
    "reference_speaker = src_path  # This is the voice you want to clone\n",
    "\n",
    "'''\n",
    "음성에서 음색 특성과 관련 정보를 추출\n",
    "    target_se: 입력 음성에서 추출된 음색 특성 (벡터)\n",
    "    audio_name: 입력된 음성 파일의 이름\n",
    "'''\n",
    "target_se, audio_name = se_extractor.get_se(reference_speaker, tone_color_converter, vad=True)"
   ]
  },
  {
   "cell_type": "markdown",
   "metadata": {},
   "source": [
    "#### Use MeloTTS as Base Speakers\n",
    "\n",
    "MeloTTS is a high-quality multi-lingual text-to-speech library by @MyShell.ai, supporting languages including English (American, British, Indian, Australian, Default), Spanish, French, Chinese, Japanese, Korean. In the following example, we will use the models in MeloTTS as the base speakers. "
   ]
  },
  {
   "cell_type": "code",
   "execution_count": null,
   "metadata": {},
   "outputs": [
    {
     "name": "stderr",
     "output_type": "stream",
     "text": [
      "c:\\Users\\kimyk\\OneDrive\\문서\\유경\\OpenVoice\\.venv\\lib\\site-packages\\torch\\nn\\utils\\weight_norm.py:143: FutureWarning: `torch.nn.utils.weight_norm` is deprecated in favor of `torch.nn.utils.parametrizations.weight_norm`.\n",
      "  WeightNorm.apply(module, name, dim)\n",
      "C:\\Users\\kimyk\\OneDrive\\문서\\유경\\OpenVoice\\MeloTTS\\melo\\download_utils.py:64: FutureWarning: You are using `torch.load` with `weights_only=False` (the current default value), which uses the default pickle module implicitly. It is possible to construct malicious pickle data which will execute arbitrary code during unpickling (See https://github.com/pytorch/pytorch/blob/main/SECURITY.md#untrusted-models for more details). In a future release, the default value for `weights_only` will be flipped to `True`. This limits the functions that could be executed during unpickling. Arbitrary objects will no longer be allowed to be loaded via this mode unless they are explicitly allowlisted by the user via `torch.serialization.add_safe_globals`. We recommend you start setting `weights_only=True` for any use case where you don't have full control of the loaded file. Please open an issue on GitHub for any issues related to this experimental feature.\n",
      "  return torch.load(ckpt_path, map_location=device)\n",
      "C:\\Users\\kimyk\\AppData\\Local\\Temp\\ipykernel_6872\\1296281257.py:19: FutureWarning: You are using `torch.load` with `weights_only=False` (the current default value), which uses the default pickle module implicitly. It is possible to construct malicious pickle data which will execute arbitrary code during unpickling (See https://github.com/pytorch/pytorch/blob/main/SECURITY.md#untrusted-models for more details). In a future release, the default value for `weights_only` will be flipped to `True`. This limits the functions that could be executed during unpickling. Arbitrary objects will no longer be allowed to be loaded via this mode unless they are explicitly allowlisted by the user via `torch.serialization.add_safe_globals`. We recommend you start setting `weights_only=True` for any use case where you don't have full control of the loaded file. Please open an issue on GitHub for any issues related to this experimental feature.\n",
      "  source_se = torch.load(f'checkpoints_v2/base_speakers/ses/{speaker_key}.pth', map_location=device)\n"
     ]
    },
    {
     "name": "stdout",
     "output_type": "stream",
     "text": [
      " > Text split to sentences.\n",
      "안녕하세요! 오늘은 날씨가 정말 좋네요.\n",
      " > ===========================\n"
     ]
    },
    {
     "name": "stderr",
     "output_type": "stream",
     "text": [
      "100%|██████████| 1/1 [00:32<00:00, 32.60s/it]\n"
     ]
    }
   ],
   "source": [
    "from melo.api import TTS\n",
    "\n",
    "# 변환할 텍스트 데이터 정의\n",
    "text = \"안녕하세요! 오늘은 날씨가 정말 좋네요.\"\n",
    "\n",
    "# 텍스트를 음성으로 변환한 결과를 저장하기 위한 임시 파일 경로\n",
    "src_path = f'{output_dir}/tmp.wav'\n",
    "\n",
    "# Speed is adjustable\n",
    "speed = 1.0\n",
    "\n",
    "model = TTS(language='KR', device=device)  \n",
    "speaker_ids = model.hps.data.spk2id\n",
    "\n",
    "for speaker_key in speaker_ids.keys():\n",
    "    speaker_id = speaker_ids[speaker_key]\n",
    "    speaker_key = speaker_key.lower().replace('_', '-')\n",
    "    \n",
    "    source_se = torch.load(f'checkpoints_v2/base_speakers/ses/{speaker_key}.pth', map_location=device)\n",
    "    model.tts_to_file(text, speaker_id, src_path, speed=speed)\n",
    "    save_path = f'{output_dir}/output_v2_microphone.wav'\n",
    "\n",
    "    # Run the tone color converter (생성된 음성의 음색을 변환)\n",
    "    encode_message = \"@MyShell\"\n",
    "    tone_color_converter.convert(\n",
    "        audio_src_path=src_path, \n",
    "        src_se=source_se, \n",
    "        tgt_se=target_se, \n",
    "        output_path=save_path,\n",
    "        message=encode_message)"
   ]
  }
 ],
 "metadata": {
  "kernelspec": {
   "display_name": ".venv",
   "language": "python",
   "name": "python3"
  },
  "language_info": {
   "codemirror_mode": {
    "name": "ipython",
    "version": 3
   },
   "file_extension": ".py",
   "mimetype": "text/x-python",
   "name": "python",
   "nbconvert_exporter": "python",
   "pygments_lexer": "ipython3",
   "version": "3.9.1"
  }
 },
 "nbformat": 4,
 "nbformat_minor": 2
}
